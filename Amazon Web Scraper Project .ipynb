{
 "cells": [
  {
   "cell_type": "code",
   "execution_count": 8,
   "id": "d7528b9c",
   "metadata": {},
   "outputs": [],
   "source": [
    "#import libraries\n",
    "import pandas as pd\n",
    "from bs4 import BeautifulSoup\n",
    "import time\n",
    "import datetime\n",
    "import requests\n",
    "import smtplib"
   ]
  },
  {
   "cell_type": "code",
   "execution_count": 18,
   "id": "8f881832",
   "metadata": {},
   "outputs": [
    {
     "name": "stdout",
     "output_type": "stream",
     "text": [
      "\n",
      "                   Caseria Men's Round Neck Cotton Half Sleeved T-Shirt with Printed Graphics - Python\n",
      "                  \n",
      "\n",
      "                   439\n",
      "                  \n"
     ]
    }
   ],
   "source": [
    "#connect to website\n",
    "\n",
    "URL = 'https://www.amazon.in/Caseria-Sleeved-T-Shirt-Printed-Graphics/dp/B0B8JS4K4V/ref=sr_1_3?crid=XPNMV0RN6NG0&keywords=python%2Btshirt&qid=1679810985&sprefix=python%2Btshirt%2Caps%2C192&sr=8-3'\n",
    "\n",
    "headers = {\"User-Agent\": \"Mozilla/5.0 (Windows NT 10.0; Win64; x64) AppleWebKit/537.36 (KHTML, like Gecko) Chrome/111.0.0.0 Safari/537.36\"}\n",
    "\n",
    "page = requests.get(URL,headers=headers)\n",
    "\n",
    "soup1 = BeautifulSoup(page.content,\"html.parser\")\n",
    "\n",
    "soup2 = BeautifulSoup(soup1.prettify(),\"html.parser\")\n",
    "\n",
    "title = soup2.find(id='productTitle').get_text()\n",
    "\n",
    "price = soup2.find(\"span\", {\"class\": \"a-price-whole\"}).get_text()\n",
    "\n",
    "print(title)\n",
    "print(price)\n",
    "\n"
   ]
  },
  {
   "cell_type": "code",
   "execution_count": 21,
   "id": "e563b536",
   "metadata": {},
   "outputs": [
    {
     "name": "stdout",
     "output_type": "stream",
     "text": [
      "Caseria Men's Round Neck Cotton Half Sleeved T-Shirt with Printed Graphics - Python\n",
      "439\n"
     ]
    }
   ],
   "source": [
    "price=price.strip()\n",
    "title=title.strip()\n",
    "\n",
    "print(title)\n",
    "print(price)"
   ]
  },
  {
   "cell_type": "code",
   "execution_count": 29,
   "id": "7983e004",
   "metadata": {},
   "outputs": [
    {
     "name": "stdout",
     "output_type": "stream",
     "text": [
      "2023-03-26\n"
     ]
    }
   ],
   "source": [
    "today = datetime.date.today()\n",
    "print(today)"
   ]
  },
  {
   "cell_type": "code",
   "execution_count": 35,
   "id": "9e9794b6",
   "metadata": {},
   "outputs": [],
   "source": [
    "import csv\n",
    "\n",
    "header = ['Title','Price','Date']\n",
    "data = [title,price,today]\n",
    "\n",
    "\n",
    "with open('AmazonWebScraperDataset.csv','w',newline='',encoding='UTF8')as f:\n",
    "    writer = csv.writer(f)\n",
    "    writer.writerow(header)\n",
    "    writer.writerow(data)\n",
    "    \n",
    "    "
   ]
  },
  {
   "cell_type": "code",
   "execution_count": 44,
   "id": "0cf44d88",
   "metadata": {},
   "outputs": [
    {
     "name": "stdout",
     "output_type": "stream",
     "text": [
      "                                               Title  Price        Date\n",
      "0  Caseria Men's Round Neck Cotton Half Sleeved T...    439  2023-03-26\n",
      "1  Caseria Men's Round Neck Cotton Half Sleeved T...    439  2023-03-26\n",
      "2  Caseria Men's Round Neck Cotton Half Sleeved T...    439  2023-03-26\n",
      "3  Caseria Men's Round Neck Cotton Half Sleeved T...    439  2023-03-26\n"
     ]
    }
   ],
   "source": [
    "import pandas as pd\n",
    "df = pd.read_csv(r\"C:\\Users\\rohit\\Python Projects\\AmazonWebScraperDataset.csv\")\n",
    "print(df)"
   ]
  },
  {
   "cell_type": "code",
   "execution_count": 43,
   "id": "8dda3f3a",
   "metadata": {},
   "outputs": [],
   "source": [
    "# now we are appending data to the csv\n",
    "\n",
    "with open('AmazonWebScraperDataset.csv','a+',newline='',encoding='UTF8')as f:\n",
    "    writer = csv.writer(f)\n",
    "    writer.writerow(data)"
   ]
  },
  {
   "cell_type": "code",
   "execution_count": 45,
   "id": "ec9e990c",
   "metadata": {},
   "outputs": [],
   "source": [
    "def check_price():\n",
    "    URL = 'https://www.amazon.in/Caseria-Sleeved-T-Shirt-Printed-Graphics/dp/B0B8JS4K4V/ref=sr_1_3?crid=XPNMV0RN6NG0&keywords=python%2Btshirt&qid=1679810985&sprefix=python%2Btshirt%2Caps%2C192&sr=8-3'\n",
    "\n",
    "    headers = {\"User-Agent\": \"Mozilla/5.0 (Windows NT 10.0; Win64; x64) AppleWebKit/537.36 (KHTML, like Gecko) Chrome/111.0.0.0 Safari/537.36\"}\n",
    "\n",
    "    page = requests.get(URL,headers=headers)\n",
    "\n",
    "    soup1 = BeautifulSoup(page.content,\"html.parser\")\n",
    "\n",
    "    soup2 = BeautifulSoup(soup1.prettify(),\"html.parser\")\n",
    "\n",
    "    title = soup2.find(id='productTitle').get_text()\n",
    "\n",
    "    price = soup2.find(\"span\", {\"class\": \"a-price-whole\"}).get_text()\n",
    "    \n",
    "    price=price.strip()\n",
    "    title=title.strip()\n",
    "    \n",
    "    import datetime\n",
    "    today = datetime.date.today()\n",
    " \n",
    "    import csv\n",
    "\n",
    "    header = ['Title','Price','Date']\n",
    "    data = [title,price,today]\n",
    "\n",
    "    with open('AmazonWebScraperDataset.csv','a+',newline='',encoding='UTF8')as f:\n",
    "        writer = csv.writer(f)\n",
    "        writer.writerow(data)\n",
    "    \n",
    "\n",
    "\n",
    "\n"
   ]
  },
  {
   "cell_type": "code",
   "execution_count": null,
   "id": "05188850",
   "metadata": {},
   "outputs": [],
   "source": [
    "while(True):\n",
    "    check_price()\n",
    "    time.sleep(86400)"
   ]
  },
  {
   "cell_type": "code",
   "execution_count": 47,
   "id": "721d30ab",
   "metadata": {},
   "outputs": [
    {
     "name": "stdout",
     "output_type": "stream",
     "text": [
      "                                               Title  \\\n",
      "0  Caseria Men's Round Neck Cotton Half Sleeved T...   \n",
      "1  Caseria Men's Round Neck Cotton Half Sleeved T...   \n",
      "2  Caseria Men's Round Neck Cotton Half Sleeved T...   \n",
      "3  Caseria Men's Round Neck Cotton Half Sleeved T...   \n",
      "4  Caseria Men's Round Neck Cotton Half Sleeved T...   \n",
      "5  Caseria Men's Round Neck Cotton Half Sleeved T...   \n",
      "6  Caseria Men's Round Neck Cotton Half Sleeved T...   \n",
      "7  Caseria Men's Round Neck Cotton Half Sleeved T...   \n",
      "\n",
      "                                               Price        Date  \n",
      "0                                                439  2023-03-26  \n",
      "1                                                439  2023-03-26  \n",
      "2                                                439  2023-03-26  \n",
      "3                                                439  2023-03-26  \n",
      "4  439\\n                            \\n           ...  2023-03-26  \n",
      "5                                                439  2023-03-26  \n",
      "6  439\\n                            \\n           ...  2023-03-26  \n",
      "7  439\\n                            \\n           ...  2023-03-26  \n"
     ]
    }
   ],
   "source": [
    "import pandas as pd\n",
    "df = pd.read_csv(r\"C:\\Users\\rohit\\Python Projects\\AmazonWebScraperDataset.csv\")\n",
    "print(df)"
   ]
  },
  {
   "cell_type": "code",
   "execution_count": null,
   "id": "23375eb1",
   "metadata": {},
   "outputs": [],
   "source": []
  }
 ],
 "metadata": {
  "kernelspec": {
   "display_name": "Python 3 (ipykernel)",
   "language": "python",
   "name": "python3"
  },
  "language_info": {
   "codemirror_mode": {
    "name": "ipython",
    "version": 3
   },
   "file_extension": ".py",
   "mimetype": "text/x-python",
   "name": "python",
   "nbconvert_exporter": "python",
   "pygments_lexer": "ipython3",
   "version": "3.9.12"
  }
 },
 "nbformat": 4,
 "nbformat_minor": 5
}
